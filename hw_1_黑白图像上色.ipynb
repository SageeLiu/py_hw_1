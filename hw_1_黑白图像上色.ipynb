{
 "cells": [
  {
   "cell_type": "code",
   "execution_count": 3,
   "metadata": {},
   "outputs": [
    {
     "name": "stdout",
     "output_type": "stream",
     "text": [
      "{'refresh_token': '25.48ec5a0eb94b4c8ca0e2bda291876af0.315360000.1931866668.282335-23815810', 'expires_in': 2592000, 'session_key': '9mzdDAIjDyNiLYvcwIvdNJ0w1WaOfwvCvuLhjqMoolAWQyyDv50mUsbhBYg30Gkn18piHWMQ+qRJldJE06c432qh48jOLw==', 'access_token': '24.77e530ed2efce8bc396193d65eb26dd5.2592000.1619098668.282335-23815810', 'scope': 'public brain_all_scope brain_colourize brain_stretch_restore brain_dehaze brain_contrast_enhance brain_image_quality_enhance brain_style_trans brain_inpainting brain_image_definition_enhance brain_selfie_anime wise_adapt lebo_resource_base lightservice_public hetu_basic lightcms_map_poi kaidian_kaidian ApsMisTest_Test权限 vis-classify_flower lpq_开放 cop_helloScope ApsMis_fangdi_permission smartapp_snsapi_base smartapp_mapp_dev_manage iop_autocar oauth_tp_app smartapp_smart_game_openapi oauth_sessionkey smartapp_swanid_verify smartapp_opensource_openapi smartapp_opensource_recapi fake_face_detect_开放Scope vis-ocr_虚拟人物助理 idl-video_虚拟人物助理 smartapp_component smartapp_search_plugin avatar_video_test', 'session_secret': '665bb77f862f9b8fd50909b904d67f05'}\n"
     ]
    }
   ],
   "source": [
    "import requests\n",
    "import base64\n",
    "\n",
    "# Function:giving color to black and white pics       \n",
    "request_url = \"https://aip.baidubce.com/rest/2.0/image-process/v1/colourize\" \n",
    "img_path = '黑白.JPEG'\n",
    "\n",
    "# opening file with binary\n",
    "with open(img_path, 'rb') as f:\n",
    "    image_data = base64.b64encode(f.read())\n",
    "\n",
    "# getting response from API with access token\n",
    "host = 'https://aip.baidubce.com/oauth/2.0/token?grant_type=client_credentials&client_id=pSWNFiF13aVQUYFBuIohXTpg&client_secret=SNmYviIQUYiPb6k8frgHOKdkX51g2xlY'\n",
    "response = requests.get(host)\n",
    "if response:\n",
    "    print(response.json())\n",
    "params = {\"image\":image_data}\n",
    "access_token = response.json()['access_token']\n",
    "request_url = request_url + \"?access_token=\" + access_token\n",
    "headers = {'content-type': 'application/x-www-form-urlencoded'}\n",
    "response = requests.post(request_url, data=params, headers=headers)\n",
    "\n",
    "# showing the results\n",
    "data = response.json()['image']\n",
    "image_data = base64.b64decode(data)\n",
    "\n",
    "with open('1.jpg', 'wb') as f:\n",
    "    f.write(image_data)\n"
   ]
  },
  {
   "cell_type": "code",
   "execution_count": null,
   "metadata": {},
   "outputs": [],
   "source": []
  },
  {
   "cell_type": "code",
   "execution_count": null,
   "metadata": {},
   "outputs": [],
   "source": []
  },
  {
   "cell_type": "code",
   "execution_count": null,
   "metadata": {},
   "outputs": [],
   "source": []
  },
  {
   "cell_type": "code",
   "execution_count": null,
   "metadata": {},
   "outputs": [],
   "source": []
  }
 ],
 "metadata": {
  "kernelspec": {
   "display_name": "Python 3",
   "language": "python",
   "name": "python3"
  },
  "language_info": {
   "codemirror_mode": {
    "name": "ipython",
    "version": 3
   },
   "file_extension": ".py",
   "mimetype": "text/x-python",
   "name": "python",
   "nbconvert_exporter": "python",
   "pygments_lexer": "ipython3",
   "version": "3.8.5"
  }
 },
 "nbformat": 4,
 "nbformat_minor": 4
}
